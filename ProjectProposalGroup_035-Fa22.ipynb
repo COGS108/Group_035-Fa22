{
 "cells": [
  {
   "cell_type": "markdown",
   "metadata": {},
   "source": [
    "# COGS 108 - Final Project Proposal"
   ]
  },
  {
   "cell_type": "markdown",
   "metadata": {},
   "source": [
    "# Names\n",
    "\n",
    "- Maxwell Fang\n",
    "- Long Le\n",
    "- Huy Trinh\n",
    "- Hasan Shaikh\n",
    "- Mohammed Master"
   ]
  },
  {
   "cell_type": "markdown",
   "metadata": {},
   "source": [
    "# Research Question"
   ]
  },
  {
   "cell_type": "markdown",
   "metadata": {},
   "source": [
    "How does the spice level of instant ramen affect the star rating on the www.theramenrater.com in regards to preference across each country\n",
    "\n"
   ]
  },
  {
   "cell_type": "markdown",
   "metadata": {},
   "source": [
    "## Background and Prior Work"
   ]
  },
  {
   "cell_type": "markdown",
   "metadata": {},
   "source": [
    "\n",
    "- Include a general introduction to your topic\n",
    "    \n",
    "    * What is Instant Ramen? Instant Ramen is a staple food for college students and busy people throughout the world. People eat it for breakfast, lunch, dinner, and at any time of the day. Instant Ramen is a cheap option and consists of precooked noodles with some type of flavor powder. It is common around the world and each country has a favorite brand. Some famous brands are NongShim, Indomie, and Maruchan. \n",
    "    - This topic is very significant to our group because as college students we all have tried various types of noodles. We love food and want to share our love of food and combine it with data science. We have looked deep into our dataset and categorized it with brands, countries, and ratings. \n",
    "    - We are curious to see if the spice level of instant ramen can have an effect on the rating deepening in the different countries it is tried in. We know that some countries prefer spicy food so possibly the spicier instant ramens has a higher rating three, whilst countries that cannot tolerate much spice may have a greater rating for less spicier flavors. \n",
    "\n",
    "- Include explanation of what work has been done previously\n",
    "- Include citations or links to previous work\n",
    "\n",
    "This section will present the background and context of your topic and question in a few paragraphs. Include a general introduction to your topic and then describe what information you currently know about the topic after doing your initial research. Include references to other projects who have asked similar questions or approached similar problems. Explain what others have learned in their projects.\n",
    "\n",
    "Find some relevant prior work, and reference those sources, summarizing what each did and what they learned. Even if you think you have a totally novel question, find the most similar prior work that you can and discuss how it relates to your project.\n",
    "\n",
    "References can be research publications, but they need not be. Blogs, GitHub repositories, company websites, etc., are all viable references if they are relevant to your project. It must be clear which information comes from which references. (2-3 paragraphs, including at least 2 references)\n"
   ]
  },
  {
   "cell_type": "markdown",
   "metadata": {},
   "source": [
    "# Hypothesis\n"
   ]
  },
  {
   "cell_type": "markdown",
   "metadata": {},
   "source": [
    "What is your main hypothesis/predictions about what the answer to your question is? Briefly explain your thinking. (2-3 sentences)\n",
    "\n",
    "We believe that (South and Southeast) Asian countries have a higher star rating for spicy instant ramen noodles than other countries on average.\n",
    "A large portion of ramen manufacturers in Asia produce spicy-flavored ramen; we believe that ratings for spicy ramen will be higher than those that are not spicy.\n"
   ]
  },
  {
   "cell_type": "markdown",
   "metadata": {},
   "source": [
    "# Data"
   ]
  },
  {
   "cell_type": "markdown",
   "metadata": {},
   "source": [
    "1. Explain what the **ideal** dataset you would want to answer this question. (This should include: What variables? How many observations? Who/what/how would these data be collected? How would these data be stored/organized?)\n",
    "\n",
    "This question is quite clear to the audience that they can imagine themselves. An ideal dataset should contain the average rating from a random sample instant ramen noodle. An ideal dataset should include the variables: 1) spiciness level 2) country origin 3) average rating from a random sample population. Ideally, we should have all types of ramen in our dataset. We would want to see the organization's name and its original country that produces the ramen. Within those products, we will see the package name and also how spicy it is. It is also important to see how customers would rate those instant ramen when they try them. We should also know the population that rate those ramen since not everyone can try all of them. A record of around more than 1000 rows should be durable enough to analyze. Since the dataset is not to that extent of more than 1 GB, we can store it in a csv file instead of zipping it into json format.\n",
    "\n",
    "\n",
    "2. Search for potential **real** datasets that could provide you with something useful for this project.  You do not have to find every piece of data you will use, but you do need to have demonstrated some idea that (a) this data is gettable and (b) that this data may be different from what your ideal is\n",
    "\n",
    "(a) A dataset we found is on Kaggle Top Ramen Ratings 2022 . Another one (Ramen Ratings) we use is from 5 years ago when we compare the trend of ratings. Both dataset have the same variables: brand name, variety or ramen package name, style, country and stars. They are well-formatted or cleansed csv files that we can download from Kaggle since they are publicly available. It is quite limited to the fact that there is no indication of the general population rating.*\n",
    "\n",
    "(b) After having researched on how the dataset is made, we found that the ratings come from only 1 person, which is from a guy who has eaten and made an opinion on those ramen surrounding his areas. We do not have average ratings described in our ideal circumstances. Kaggle dataset collected information from The Definitive Guide To Samyang Buldak 2.0 article. How we know that this site is only reviewed by one person is proven from the author’s HOW I REVIEW / DISCLOSURE. Another issue is extracting the spiciness level from “variety” column (text field), which describes the name of the ramen package. We have to make an assumption that certain flavors will be spicy such as “kimchi”, “curry”, “heat”, “hot”."
   ]
  },
  {
   "cell_type": "markdown",
   "metadata": {},
   "source": [
    "# Ethics & Privacy"
   ]
  },
  {
   "cell_type": "markdown",
   "metadata": {},
   "source": [
    "- Thoughtful discussion of ethical concerns included\n",
    "\n",
    "    - Ethical concerns may be if the data set includes any intrusive or confidential information regarding persons personal data.\n",
    "- Ethical concerns consider the whole data science process (question asked, data collected, data being used, the bias in data, analysis, post-analysis, etc.)\n",
    "\n",
    "    * How the data was collected should also be considered in regards to if the data is allowed to be used. For example, if the subject chose not to use their data for research, it would have been unethical to use their responses. \n",
    "    * The questions asked in order to attain data should also not be leading or biased in any form (this must be confirmed). \n",
    "    * The inherent cultural bias also needs to be addressed regarding ramen in certain countries such as Asian countries having a preference for it while Middle Eastern countries may not have a preference for it.\n",
    "    * Analysis of the data needs to also be interpreted equally among all countries and without any implicit bias from researchers. This potential bias is unavoidable but must be addressed within the post-analysis if relevant to the study.\n",
    "\n",
    "- How your group handled bias/ethical concerns clearly described\n",
    "    - How were questions asked to obtain data? Any bias within questions asked? Any questions left out?\n",
    "    - Is there a need to address ramen’s popularity within other countries? Data and research may imply a direct yes or no to our research question without knowing if ramen is even eaten in a region.\n",
    "    - Acknowledgement of implicit bias as we, as researchers, are all predominantly 1st or 2nd gen American Asian/American South Asian UC San Diego students of the same age range.\n",
    "    - Spice level of ramen is also subjective. Some ramen packets may be considered spicy in one region but mild in another. There must be a level of standardization in order to make valid conclusions.\n",
    "    - The intentions of us researchers must be made completely clear without negative thoughts or actions in mind. This includes us, the researchers, explaining cohesively our motives for this research and why we specifically chose this topic to study and explore. The data must be handled in a fair manner whilst interpreting it respectfully with careful regard for each culture and country’s respect.\n",
    "\n",
    "\n",
    "\n",
    "Acknowledge and address any ethics & privacy related issues of your question(s), proposed dataset(s), and/or analyses. Use the information provided in lecture to guide your group discussion and thinking. If you need further guidance, check out [Deon's Ethics Checklist](http://deon.drivendata.org/#data-science-ethics-checklist). In particular:\n",
    "\n",
    "- Are there any biases/privacy/terms of use issues with the data you propsed?\n",
    "\n",
    "\n",
    "    - We believe that there might be overrepresentation/underrepresentation of companies that do not use email as their main method of communication or outside of the U.S. Companies that are outside of the U.S. might have a higher barrier to send their instant ramen samples to the United States compared to companies that have their factory/distributing factory inside the U.S.\n",
    "    - Since our question deals with a certain characteristic (spiciness) of the instant ramen, we do not care about data privacy because we do not have to anonymize the identity of the noodles from our dataset. In fact, we plan on using all of the available  attributes of the dataset to help with our data analysis. \n",
    "    - In terms of terms of use, we can see that the dataset is publicly available on Kaggle for us to perform EDA .\n",
    "\n",
    "\n",
    "- Are there potential biases in your dataset(s), in terms of who it composes, and how it was collected, that may be problematic in terms of it allowing for equitable analysis? (For example, does your data exclude particular populations, or is it likely to reflect particular human biases in a way that could be a problem?)\n",
    "\n",
    "\n",
    "    - According to the original website where the data is collected, the website owner (Hans Lienesch) contacted different instant ramen companies by email and asked for their sample through mail. Because of this way of obtaining the sample noodle, some companies that do not use email as their main method of communication or companies outside of the United States find it more difficult to have their products sent to this reviewer. Besides, he also obtains his instant ramen noodles for review from buying the instant ramen noodles from his local grocery store. Because of this, the instant ramen noodles in the dataset is a biased sample of the noodles that are available in his area.\n",
    "    - Besides, the review (Hans Lienesch) might also miss instant ramen companies that have a small representation in the United States. Because of this, he might not contact those companies all together.\n",
    "\n",
    "- How will you set out to detect these specific biases before, during, and after/when communicating your analysis?\n",
    "\n",
    "\n",
    "    - Since our problem concerns the data sampling process. I do not think that we can resample the data to overcome this sampling bias. However, we would be very careful with our conclusion statement.\n",
    "    - We can already establish that the sample of instant ramen noodles is a biased sample.\n",
    "\n",
    "\n",
    "\n",
    "- Are there any other issues related to your topic area, data, and/or analyses that are potentially problematic in terms of data privacy and equitable impact?\n",
    "\n",
    "Beside the identified problem, we do not think that there is any other big problem with our hypothesis question.\n",
    "- How will you handle issues you identified?\n",
    "\n",
    "\n",
    "    - Because of this biased data sampling method, we cannot generalize the answer to infer any causal relationship.\n",
    "    - We can only generalize our findings to the instant ramen samples that he received.\n"
   ]
  },
  {
   "cell_type": "markdown",
   "metadata": {},
   "source": [
    "# Team Expectations "
   ]
  },
  {
   "cell_type": "markdown",
   "metadata": {},
   "source": [
    "\n",
    "Read over the [COGS108 Team Policies](https://github.com/COGS108/Projects/blob/master/COGS108_TeamPolicies.md) individually. Then, include your group’s expectations of one another for successful completion of your COGS108 project below. Discuss and agree on what all of your expectations are. Discuss how your team will communicate throughout the quarter and consider how you will communicate respectfully should conflicts arise. By including each member’s name above and by adding their name to the submission, you are indicating that you have read the COGS108 Team Policies, accept your team’s expectations below, and have every intention to fulfill them. These expectations are for your team’s use and benefit — they won’t be graded for their details.\n",
    "\n",
    "* *Team Expectation 1*\n",
    "    * Please complete the assigned task. If you believe that the work distribution is unfair, please speak up.\n",
    "* *Team Expectation 2*\n",
    "    * If you are stuck on a certain part of your task, please reach out to other members (or faculties). Just in the case of an emergency, please let other members know ahead of time so that the team can rearrange the work appropriately.\n",
    "    \n",
    "* *Team Expecation 3*\n",
    "    * Keep active communication with other members of the group. Notify the group of changes into the repo or any contributions towards the project.\n"
   ]
  },
  {
   "cell_type": "markdown",
   "metadata": {},
   "source": [
    "# Project Timeline Proposal"
   ]
  },
  {
   "cell_type": "markdown",
   "metadata": {},
   "source": [
    "Specify your team's specific project timeline. An example timeline has been provided. Changes the dates, times, names, and details to fit your group's plan.\n",
    "\n",
    "If you think you will need any special resources or training outside what we have covered in COGS 108 to solve your problem, then your proposal should state these clearly. For example, if you have selected a problem that involves implementing multiple neural networks, please state this so we can make sure you know what you’re doing and so we can point you to resources you will need to implement your project. Note that you are not required to use outside methods.\n",
    "\n",
    "\n",
    "\n",
    "| Meeting Date  | Meeting Time| Completed Before Meeting  | Discuss at Meeting |\n",
    "|---|---|---|---|\n",
    "| 1/20  |  1 PM | Read & Think about COGS 108 expectations; brainstorm topics/questions  | Determine best form of communication; Discuss and decide on final project topic; discuss hypothesis; begin background research | \n",
    "| 1/26  |  10 AM |  Do background research on topic | Discuss ideal dataset(s) and ethics; draft project proposal | \n",
    "| 2/1  | 10 AM  | Edit, finalize, and submit proposal; Search for datasets  | Discuss Wrangling and possible analytical approaches; Assign group members to lead each specific part   |\n",
    "| 2/14  | 6 PM  | Import & Wrangle Data (Ant Man); EDA (Hulk) | Review/Edit wrangling/EDA; Discuss Analysis Plan   |\n",
    "| 2/23  | 12 PM  | Finalize wrangling/EDA; Begin Analysis (Iron Man; Thor) | Discuss/edit Analysis; Complete project check-in |\n",
    "| 3/13  | 12 PM  | Complete analysis; Draft results/conclusion/discussion (Wasp)| Discuss/edit full project |\n",
    "| 3/19  | Before 11:59 PM  | NA | Turn in Final Project & Group Project Surveys |"
   ]
  },
  {
   "cell_type": "code",
   "execution_count": null,
   "metadata": {},
   "outputs": [],
   "source": []
  }
 ],
 "metadata": {
  "kernelspec": {
   "display_name": "Python 3",
   "language": "python",
   "name": "python3"
  },
  "language_info": {
   "codemirror_mode": {
    "name": "ipython",
    "version": 3
   },
   "file_extension": ".py",
   "mimetype": "text/x-python",
   "name": "python",
   "nbconvert_exporter": "python",
   "pygments_lexer": "ipython3",
   "version": "3.7.6"
  }
 },
 "nbformat": 4,
 "nbformat_minor": 2
}
