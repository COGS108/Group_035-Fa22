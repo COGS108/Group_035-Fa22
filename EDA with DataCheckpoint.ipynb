{
 "cells": [
  {
   "cell_type": "markdown",
   "metadata": {},
   "source": [
    "# COGS 108 - Data Checkpoint"
   ]
  },
  {
   "cell_type": "markdown",
   "metadata": {},
   "source": [
    "# Names\n",
    "\n",
    "- Maxwell Fang\n",
    "- Long Le\n",
    "- Huy Trinh\n",
    "- Hasan Shaikh\n",
    "- Mohammed Master"
   ]
  },
  {
   "cell_type": "markdown",
   "metadata": {},
   "source": [
    "<a id='research_question'></a>\n",
    "# Research Question"
   ]
  },
  {
   "cell_type": "markdown",
   "metadata": {},
   "source": [
    "How does the spice level of instant ramen affect the star rating on the www.theramenrater.com in regards to preference across each country?"
   ]
  },
  {
   "cell_type": "markdown",
   "metadata": {},
   "source": [
    "# Dataset(s)"
   ]
  },
  {
   "cell_type": "markdown",
   "metadata": {},
   "source": [
    "*Fill in your dataset information here*\n",
    "\n",
    "(Copy this information for each dataset)\n",
    "- Dataset Name: Top Ramen Ratings 2022\n",
    "- Link to the dataset: https://www.kaggle.com/datasets/ankanhore545/top-ramen-ratings-2022\n",
    "- Number of observations: 4120\n",
    "\n",
    "1-2 sentences describing each dataset. \n",
    "\n",
    "If you plan to use multiple datasets, add 1-2 sentences about how you plan to combine these datasets."
   ]
  },
  {
   "cell_type": "markdown",
   "metadata": {},
   "source": [
    "# Setup"
   ]
  },
  {
   "cell_type": "code",
   "execution_count": 1,
   "metadata": {},
   "outputs": [],
   "source": [
    "from tqdm.notebook import tqdm\n",
    "import pandas as pd\n",
    "import numpy as np\n",
    "import matplotlib.pyplot as plt\n",
    "import seaborn as sns\n",
    "from collections import defaultdict\n",
    "from category_dict import spiciness_dict\n",
    "import re\n",
    "\n",
    "%matplotlib inline\n",
    "%config InlineBackend.figure_format = 'retina'  # Higher resolution figures"
   ]
  },
  {
   "cell_type": "code",
   "execution_count": 2,
   "metadata": {},
   "outputs": [
    {
     "data": {
      "text/html": [
       "<div>\n",
       "<style scoped>\n",
       "    .dataframe tbody tr th:only-of-type {\n",
       "        vertical-align: middle;\n",
       "    }\n",
       "\n",
       "    .dataframe tbody tr th {\n",
       "        vertical-align: top;\n",
       "    }\n",
       "\n",
       "    .dataframe thead th {\n",
       "        text-align: right;\n",
       "    }\n",
       "</style>\n",
       "<table border=\"1\" class=\"dataframe\">\n",
       "  <thead>\n",
       "    <tr style=\"text-align: right;\">\n",
       "      <th></th>\n",
       "      <th>Review #</th>\n",
       "      <th>Brand</th>\n",
       "      <th>Variety</th>\n",
       "      <th>Style</th>\n",
       "      <th>Country</th>\n",
       "      <th>Stars</th>\n",
       "      <th>T</th>\n",
       "    </tr>\n",
       "  </thead>\n",
       "  <tbody>\n",
       "    <tr>\n",
       "      <th>0</th>\n",
       "      <td>4120</td>\n",
       "      <td>MIT</td>\n",
       "      <td>Shallot Sauce Dry Noodle</td>\n",
       "      <td>Pack</td>\n",
       "      <td>Taiwan</td>\n",
       "      <td>3</td>\n",
       "      <td>NaN</td>\n",
       "    </tr>\n",
       "    <tr>\n",
       "      <th>1</th>\n",
       "      <td>4119</td>\n",
       "      <td>Sapporo Ichiban</td>\n",
       "      <td>Tonkotsu Ramen Japanese Style Noodles</td>\n",
       "      <td>Bowl</td>\n",
       "      <td>United States</td>\n",
       "      <td>4.5</td>\n",
       "      <td>NaN</td>\n",
       "    </tr>\n",
       "    <tr>\n",
       "      <th>2</th>\n",
       "      <td>4118</td>\n",
       "      <td>Binh Tay</td>\n",
       "      <td>Mi Kiwi</td>\n",
       "      <td>Bowl</td>\n",
       "      <td>Vietnam</td>\n",
       "      <td>3</td>\n",
       "      <td>NaN</td>\n",
       "    </tr>\n",
       "    <tr>\n",
       "      <th>3</th>\n",
       "      <td>4117</td>\n",
       "      <td>Charming Couple</td>\n",
       "      <td>Biang Biang Scallion Chicken Sauce</td>\n",
       "      <td>Pack</td>\n",
       "      <td>Taiwan</td>\n",
       "      <td>4.5</td>\n",
       "      <td>NaN</td>\n",
       "    </tr>\n",
       "    <tr>\n",
       "      <th>4</th>\n",
       "      <td>4116</td>\n",
       "      <td>immi</td>\n",
       "      <td>Tom Yum Shrimp Flavor Ramen Soup</td>\n",
       "      <td>Pack</td>\n",
       "      <td>United States</td>\n",
       "      <td>2.75</td>\n",
       "      <td>NaN</td>\n",
       "    </tr>\n",
       "  </tbody>\n",
       "</table>\n",
       "</div>"
      ],
      "text/plain": [
       "   Review #            Brand                                Variety Style  \\\n",
       "0      4120              MIT               Shallot Sauce Dry Noodle  Pack   \n",
       "1      4119  Sapporo Ichiban  Tonkotsu Ramen Japanese Style Noodles  Bowl   \n",
       "2      4118         Binh Tay                                Mi Kiwi  Bowl   \n",
       "3      4117  Charming Couple     Biang Biang Scallion Chicken Sauce  Pack   \n",
       "4      4116             immi       Tom Yum Shrimp Flavor Ramen Soup  Pack   \n",
       "\n",
       "         Country Stars   T  \n",
       "0         Taiwan     3 NaN  \n",
       "1  United States   4.5 NaN  \n",
       "2        Vietnam     3 NaN  \n",
       "3         Taiwan   4.5 NaN  \n",
       "4  United States  2.75 NaN  "
      ]
     },
     "execution_count": 2,
     "metadata": {},
     "output_type": "execute_result"
    }
   ],
   "source": [
    "## YOUR CODE HERE\n",
    "ramen = pd.read_csv('ramen_rating.csv')\n",
    "ramen.head()"
   ]
  },
  {
   "cell_type": "markdown",
   "metadata": {},
   "source": [
    "# Data Cleaning"
   ]
  },
  {
   "cell_type": "markdown",
   "metadata": {},
   "source": [
    "First, we want to only keep the columns that are necessary for our analysis. Columns such as `Review #` and `T` are not needed for this analysis. Because of that reason, we are removing those columns from our analysis."
   ]
  },
  {
   "cell_type": "code",
   "execution_count": 3,
   "metadata": {},
   "outputs": [
    {
     "data": {
      "text/html": [
       "<div>\n",
       "<style scoped>\n",
       "    .dataframe tbody tr th:only-of-type {\n",
       "        vertical-align: middle;\n",
       "    }\n",
       "\n",
       "    .dataframe tbody tr th {\n",
       "        vertical-align: top;\n",
       "    }\n",
       "\n",
       "    .dataframe thead th {\n",
       "        text-align: right;\n",
       "    }\n",
       "</style>\n",
       "<table border=\"1\" class=\"dataframe\">\n",
       "  <thead>\n",
       "    <tr style=\"text-align: right;\">\n",
       "      <th></th>\n",
       "      <th>Brand</th>\n",
       "      <th>Variety</th>\n",
       "      <th>Style</th>\n",
       "      <th>Country</th>\n",
       "      <th>Stars</th>\n",
       "    </tr>\n",
       "  </thead>\n",
       "  <tbody>\n",
       "    <tr>\n",
       "      <th>0</th>\n",
       "      <td>MIT</td>\n",
       "      <td>Shallot Sauce Dry Noodle</td>\n",
       "      <td>Pack</td>\n",
       "      <td>Taiwan</td>\n",
       "      <td>3</td>\n",
       "    </tr>\n",
       "    <tr>\n",
       "      <th>1</th>\n",
       "      <td>Sapporo Ichiban</td>\n",
       "      <td>Tonkotsu Ramen Japanese Style Noodles</td>\n",
       "      <td>Bowl</td>\n",
       "      <td>United States</td>\n",
       "      <td>4.5</td>\n",
       "    </tr>\n",
       "    <tr>\n",
       "      <th>2</th>\n",
       "      <td>Binh Tay</td>\n",
       "      <td>Mi Kiwi</td>\n",
       "      <td>Bowl</td>\n",
       "      <td>Vietnam</td>\n",
       "      <td>3</td>\n",
       "    </tr>\n",
       "    <tr>\n",
       "      <th>3</th>\n",
       "      <td>Charming Couple</td>\n",
       "      <td>Biang Biang Scallion Chicken Sauce</td>\n",
       "      <td>Pack</td>\n",
       "      <td>Taiwan</td>\n",
       "      <td>4.5</td>\n",
       "    </tr>\n",
       "    <tr>\n",
       "      <th>4</th>\n",
       "      <td>immi</td>\n",
       "      <td>Tom Yum Shrimp Flavor Ramen Soup</td>\n",
       "      <td>Pack</td>\n",
       "      <td>United States</td>\n",
       "      <td>2.75</td>\n",
       "    </tr>\n",
       "  </tbody>\n",
       "</table>\n",
       "</div>"
      ],
      "text/plain": [
       "             Brand                                Variety Style  \\\n",
       "0              MIT               Shallot Sauce Dry Noodle  Pack   \n",
       "1  Sapporo Ichiban  Tonkotsu Ramen Japanese Style Noodles  Bowl   \n",
       "2         Binh Tay                                Mi Kiwi  Bowl   \n",
       "3  Charming Couple     Biang Biang Scallion Chicken Sauce  Pack   \n",
       "4             immi       Tom Yum Shrimp Flavor Ramen Soup  Pack   \n",
       "\n",
       "         Country Stars  \n",
       "0         Taiwan     3  \n",
       "1  United States   4.5  \n",
       "2        Vietnam     3  \n",
       "3         Taiwan   4.5  \n",
       "4  United States  2.75  "
      ]
     },
     "execution_count": 3,
     "metadata": {},
     "output_type": "execute_result"
    }
   ],
   "source": [
    "## YOUR CODE HERE\n",
    "## FEEL FREE TO ADD MULTIPLE CELLS PER SECTION\n",
    "df = ramen.drop(columns=['T','Review #'])\n",
    "df.head()"
   ]
  },
  {
   "cell_type": "markdown",
   "metadata": {},
   "source": [
    "## Feature Engineering\n",
    "We want to add the spiciness column from extracting the text from `Variety` column. First, we want to see if `mild`, `medium`, `spicy`, `hot`, or `fiery` is in the text itself. If any of those words is in the text, we would use the according spiciness scale to categorize the group."
   ]
  },
  {
   "cell_type": "code",
   "execution_count": 4,
   "metadata": {},
   "outputs": [
    {
     "data": {
      "text/html": [
       "<div>\n",
       "<style scoped>\n",
       "    .dataframe tbody tr th:only-of-type {\n",
       "        vertical-align: middle;\n",
       "    }\n",
       "\n",
       "    .dataframe tbody tr th {\n",
       "        vertical-align: top;\n",
       "    }\n",
       "\n",
       "    .dataframe thead th {\n",
       "        text-align: right;\n",
       "    }\n",
       "</style>\n",
       "<table border=\"1\" class=\"dataframe\">\n",
       "  <thead>\n",
       "    <tr style=\"text-align: right;\">\n",
       "      <th></th>\n",
       "      <th>Brand</th>\n",
       "      <th>Variety</th>\n",
       "      <th>Style</th>\n",
       "      <th>Country</th>\n",
       "      <th>Stars</th>\n",
       "      <th>spiciness</th>\n",
       "    </tr>\n",
       "  </thead>\n",
       "  <tbody>\n",
       "    <tr>\n",
       "      <th>0</th>\n",
       "      <td>MIT</td>\n",
       "      <td>Shallot Sauce Dry Noodle</td>\n",
       "      <td>Pack</td>\n",
       "      <td>Taiwan</td>\n",
       "      <td>3</td>\n",
       "      <td>pepper free</td>\n",
       "    </tr>\n",
       "    <tr>\n",
       "      <th>1</th>\n",
       "      <td>Sapporo Ichiban</td>\n",
       "      <td>Tonkotsu Ramen Japanese Style Noodles</td>\n",
       "      <td>Bowl</td>\n",
       "      <td>United States</td>\n",
       "      <td>4.5</td>\n",
       "      <td>pepper free</td>\n",
       "    </tr>\n",
       "    <tr>\n",
       "      <th>2</th>\n",
       "      <td>Binh Tay</td>\n",
       "      <td>Mi Kiwi</td>\n",
       "      <td>Bowl</td>\n",
       "      <td>Vietnam</td>\n",
       "      <td>3</td>\n",
       "      <td>pepper free</td>\n",
       "    </tr>\n",
       "    <tr>\n",
       "      <th>3</th>\n",
       "      <td>Charming Couple</td>\n",
       "      <td>Biang Biang Scallion Chicken Sauce</td>\n",
       "      <td>Pack</td>\n",
       "      <td>Taiwan</td>\n",
       "      <td>4.5</td>\n",
       "      <td>pepper free</td>\n",
       "    </tr>\n",
       "    <tr>\n",
       "      <th>4</th>\n",
       "      <td>immi</td>\n",
       "      <td>Tom Yum Shrimp Flavor Ramen Soup</td>\n",
       "      <td>Pack</td>\n",
       "      <td>United States</td>\n",
       "      <td>2.75</td>\n",
       "      <td>pepper free</td>\n",
       "    </tr>\n",
       "  </tbody>\n",
       "</table>\n",
       "</div>"
      ],
      "text/plain": [
       "             Brand                                Variety Style  \\\n",
       "0              MIT               Shallot Sauce Dry Noodle  Pack   \n",
       "1  Sapporo Ichiban  Tonkotsu Ramen Japanese Style Noodles  Bowl   \n",
       "2         Binh Tay                                Mi Kiwi  Bowl   \n",
       "3  Charming Couple     Biang Biang Scallion Chicken Sauce  Pack   \n",
       "4             immi       Tom Yum Shrimp Flavor Ramen Soup  Pack   \n",
       "\n",
       "         Country Stars    spiciness  \n",
       "0         Taiwan     3  pepper free  \n",
       "1  United States   4.5  pepper free  \n",
       "2        Vietnam     3  pepper free  \n",
       "3         Taiwan   4.5  pepper free  \n",
       "4  United States  2.75  pepper free  "
      ]
     },
     "execution_count": 4,
     "metadata": {},
     "output_type": "execute_result"
    }
   ],
   "source": [
    "spicy_levels = ['mild','medium','spicy','hot','fiery']\n",
    "def spiciness(text):\n",
    "    text= text.lower()\n",
    "    for spice in spicy_levels:\n",
    "        if spice in text:\n",
    "            return spice\n",
    "    return 'pepper free'\n",
    "\n",
    "df['spiciness'] = df['Variety'].apply(spiciness)\n",
    "df.head()"
   ]
  },
  {
   "cell_type": "code",
   "execution_count": 5,
   "metadata": {},
   "outputs": [
    {
     "data": {
      "text/plain": [
       "pepper free    3523\n",
       "spicy           446\n",
       "hot             128\n",
       "mild             21\n",
       "fiery             2\n",
       "Name: spiciness, dtype: int64"
      ]
     },
     "execution_count": 5,
     "metadata": {},
     "output_type": "execute_result"
    }
   ],
   "source": [
    "df.spiciness.value_counts()"
   ]
  },
  {
   "cell_type": "markdown",
   "metadata": {},
   "source": [
    "With this simple text extraction, we are able to correctly categorize almost 600 of these instant ramens. Next, we want to use the popular phrases in the variety text to manually categorize those phrases. Every phrase is made up from splitting up the string in the column `Variety` to pairs of words. Then, we loop through instant noodle name to count the occurence of these phrases."
   ]
  },
  {
   "cell_type": "code",
   "execution_count": 6,
   "metadata": {},
   "outputs": [
    {
     "data": {
      "text/plain": [
       "[('instant noodles', 298),\n",
       " ('noodle soup', 178),\n",
       " ('cup noodles', 161),\n",
       " ('instant noodle', 134),\n",
       " ('tom yum', 117),\n",
       " ('chicken flavor', 104)]"
      ]
     },
     "execution_count": 6,
     "metadata": {},
     "output_type": "execute_result"
    }
   ],
   "source": [
    "# extracting spiciness from text\n",
    "# cleaning the string from the Variety column\n",
    "variety_list = (df['Variety'].str.lower()\n",
    "                .str.replace('[^a-zA-Z]', ' ', regex=True)\n",
    "                .str.replace(' +', ' ', regex=True).values)\n",
    "\n",
    "# finding the most popular phrases to catagorize\n",
    "pairs_dict = {}\n",
    "for i in variety_list:\n",
    "    words = i.split()\n",
    "    for j in range(len(words) - 1):\n",
    "        pair = words[j] + ' ' + words[j+1]\n",
    "        if pair in pairs_dict:\n",
    "            pairs_dict[pair] += 1\n",
    "        else:\n",
    "            pairs_dict[pair] = 1\n",
    "            \n",
    "# only take the popular phrase if it appears more than 10 times\n",
    "popular_phrases = [(i, pairs_dict[i]) for i in pairs_dict if pairs_dict[i] > 10]\n",
    "popular_phrases.sort(key=lambda x: x[1],reverse = True)\n",
    "popular_phrases[:6] "
   ]
  },
  {
   "cell_type": "markdown",
   "metadata": {},
   "source": [
    "From these most used phrases, phrases such as `'instant noodles'` or `'noodle soup'` or `'cup noodles'` are not informative. Because of that reason, we cannot use these uninformative phrases to categorize the spiciness. On the other hand, we can use phrases like `'tom yum'` and `'chicken flavor'` to categorize their spiciness level. We include our categorization in the `category_dict.py` file in the same directory as this Jupyter Notebook.\n",
    "\n",
    "Then, we loop through the every row to find if the `Variety` column contains any of the pairs that we previously categorized. If the phrase exists in its packaging name, we categorize it with its approriate spiciness."
   ]
  },
  {
   "cell_type": "code",
   "execution_count": 7,
   "metadata": {},
   "outputs": [
    {
     "data": {
      "text/plain": [
       "pepper free    2834\n",
       "mild            526\n",
       "spicy           446\n",
       "hot             314\n",
       "Name: spiciness_2, dtype: int64"
      ]
     },
     "execution_count": 7,
     "metadata": {},
     "output_type": "execute_result"
    }
   ],
   "source": [
    "spicy_levels = ['mild','medium','spicy','hot']\n",
    "def spiciness(text):\n",
    "    # catch if the spciniess is directly in the text\n",
    "    text = re.sub('r[^a-zA-Z]', ' ', text.lower())\n",
    "    text = re.sub(' +', ' ', text)\n",
    "    for spice in spicy_levels:\n",
    "        if spice in text:\n",
    "            return spice\n",
    "    \n",
    "    # catch if the spiciness is implied in the text \n",
    "    words = text.split()\n",
    "    for j in range(len(words) - 1):\n",
    "        pair = words[j] + ' ' + words[j+1]\n",
    "        if pair in spiciness_dict:\n",
    "            return spiciness_dict[pair]\n",
    "    return 'pepper free'\n",
    "\n",
    "\n",
    "df['spiciness_2'] = df['Variety'].apply(spiciness)\n",
    "df['spiciness_2'].value_counts()"
   ]
  },
  {
   "cell_type": "markdown",
   "metadata": {},
   "source": [
    "After using engineering the feature using this process, we are able to categorize up to almost 1300 noodles."
   ]
  },
  {
   "cell_type": "code",
   "execution_count": 8,
   "metadata": {},
   "outputs": [
    {
     "data": {
      "text/plain": [
       "(10000, 50000)    3148\n",
       "(100, 500)         526\n",
       "(2500, 10000)      446\n",
       "Name: Scoville, dtype: int64"
      ]
     },
     "execution_count": 8,
     "metadata": {},
     "output_type": "execute_result"
    }
   ],
   "source": [
    "spicy_levels = ['mild','medium','spicy','hot']\n",
    "#0 is non-pepper, \n",
    "#(100, 2500) is mild\n",
    "#(500, 2500) is medium\n",
    "#(2500, 10000) is spicy\n",
    "#(10000, 50000) is hot\n",
    "#units: Scoville heat units\n",
    "scoville_levels = [0, (100, 500), (500, 2500), (2500, 10000), (10000, 50000)]\n",
    "\n",
    "def calc_scoville_level(level):\n",
    "    if level == 'non-pepper':\n",
    "        return scoville_levels[0]\n",
    "    elif level == 'mild':\n",
    "        return scoville_levels[1]\n",
    "    elif level == 'medium':\n",
    "        return scoville_levels[2]\n",
    "    elif level == 'spicy':\n",
    "        return scoville_levels[3]\n",
    "    else:\n",
    "        return scoville_levels[4]\n",
    "    \n",
    "df['Scoville'] = df['spiciness_2'].apply(calc_scoville_level)\n",
    "df['Scoville'].value_counts()"
   ]
  },
  {
   "cell_type": "markdown",
   "metadata": {},
   "source": [
    "# separate by region"
   ]
  },
  {
   "cell_type": "markdown",
   "metadata": {},
   "source": [
    "'https://worldpopulationreview.com/country-rankings/list-of-countries-by-continent'"
   ]
  },
  {
   "cell_type": "code",
   "execution_count": 9,
   "metadata": {
    "scrolled": true
   },
   "outputs": [
    {
     "data": {
      "text/html": [
       "<div>\n",
       "<style scoped>\n",
       "    .dataframe tbody tr th:only-of-type {\n",
       "        vertical-align: middle;\n",
       "    }\n",
       "\n",
       "    .dataframe tbody tr th {\n",
       "        vertical-align: top;\n",
       "    }\n",
       "\n",
       "    .dataframe thead th {\n",
       "        text-align: right;\n",
       "    }\n",
       "</style>\n",
       "<table border=\"1\" class=\"dataframe\">\n",
       "  <thead>\n",
       "    <tr style=\"text-align: right;\">\n",
       "      <th></th>\n",
       "      <th>country</th>\n",
       "      <th>continent</th>\n",
       "    </tr>\n",
       "  </thead>\n",
       "  <tbody>\n",
       "    <tr>\n",
       "      <th>0</th>\n",
       "      <td>algeria</td>\n",
       "      <td>Africa</td>\n",
       "    </tr>\n",
       "    <tr>\n",
       "      <th>1</th>\n",
       "      <td>angola</td>\n",
       "      <td>Africa</td>\n",
       "    </tr>\n",
       "    <tr>\n",
       "      <th>2</th>\n",
       "      <td>benin</td>\n",
       "      <td>Africa</td>\n",
       "    </tr>\n",
       "    <tr>\n",
       "      <th>3</th>\n",
       "      <td>botswana</td>\n",
       "      <td>Africa</td>\n",
       "    </tr>\n",
       "    <tr>\n",
       "      <th>4</th>\n",
       "      <td>burkinafaso</td>\n",
       "      <td>Africa</td>\n",
       "    </tr>\n",
       "    <tr>\n",
       "      <th>...</th>\n",
       "      <td>...</td>\n",
       "      <td>...</td>\n",
       "    </tr>\n",
       "    <tr>\n",
       "      <th>229</th>\n",
       "      <td>paraguay</td>\n",
       "      <td>South America</td>\n",
       "    </tr>\n",
       "    <tr>\n",
       "      <th>230</th>\n",
       "      <td>peru</td>\n",
       "      <td>South America</td>\n",
       "    </tr>\n",
       "    <tr>\n",
       "      <th>231</th>\n",
       "      <td>suriname</td>\n",
       "      <td>South America</td>\n",
       "    </tr>\n",
       "    <tr>\n",
       "      <th>232</th>\n",
       "      <td>uruguay</td>\n",
       "      <td>South America</td>\n",
       "    </tr>\n",
       "    <tr>\n",
       "      <th>233</th>\n",
       "      <td>venezuela</td>\n",
       "      <td>South America</td>\n",
       "    </tr>\n",
       "  </tbody>\n",
       "</table>\n",
       "<p>234 rows × 2 columns</p>\n",
       "</div>"
      ],
      "text/plain": [
       "         country      continent\n",
       "0        algeria         Africa\n",
       "1         angola         Africa\n",
       "2          benin         Africa\n",
       "3       botswana         Africa\n",
       "4    burkinafaso         Africa\n",
       "..           ...            ...\n",
       "229     paraguay  South America\n",
       "230         peru  South America\n",
       "231     suriname  South America\n",
       "232      uruguay  South America\n",
       "233    venezuela  South America\n",
       "\n",
       "[234 rows x 2 columns]"
      ]
     },
     "execution_count": 9,
     "metadata": {},
     "output_type": "execute_result"
    }
   ],
   "source": [
    "continent = pd.read_csv('country_by_continent.csv')\n",
    "continent['country'] = continent['country'].str.lower().str.replace(' ','')\n",
    "df['country'] =  df['Country'].str.lower().str.replace(' ','')\n",
    "continent"
   ]
  },
  {
   "cell_type": "code",
   "execution_count": 10,
   "metadata": {},
   "outputs": [
    {
     "name": "stdout",
     "output_type": "stream",
     "text": [
      "<class 'pandas.core.frame.DataFrame'>\n",
      "Int64Index: 4027 entries, 0 to 4026\n",
      "Data columns (total 9 columns):\n",
      " #   Column       Non-Null Count  Dtype \n",
      "---  ------       --------------  ----- \n",
      " 0   Brand        4027 non-null   object\n",
      " 1   Variety      4027 non-null   object\n",
      " 2   Style        4027 non-null   object\n",
      " 3   Country      4027 non-null   object\n",
      " 4   Stars        4027 non-null   object\n",
      " 5   spiciness    4027 non-null   object\n",
      " 6   spiciness_2  4027 non-null   object\n",
      " 7   Scoville     4027 non-null   object\n",
      " 8   continent    4027 non-null   object\n",
      "dtypes: object(9)\n",
      "memory usage: 314.6+ KB\n"
     ]
    }
   ],
   "source": [
    "new_df = pd.merge(df, continent, on=\"country\")\n",
    "new_df = new_df.drop(columns=['country'])\n",
    "new_df.info()"
   ]
  },
  {
   "cell_type": "code",
   "execution_count": 11,
   "metadata": {},
   "outputs": [],
   "source": [
    "star_values = ['1', '1.25', '1.5', '1.75', '2', '2.25', '2.5', '2.75', '3', '3.25', '3.5', '3.75', '4', '4.25', \n",
    "                   '4.5', '4.75', '5']\n",
    "new_df = new_df[new_df.Stars.isin(star_values) == True]\n",
    "def star_converted(s):\n",
    "  rating = s.split('/')[0]\n",
    "  try:\n",
    "      return float(rating)\n",
    "  except ValueError:\n",
    "      return None"
   ]
  },
  {
   "cell_type": "code",
   "execution_count": 12,
   "metadata": {},
   "outputs": [
    {
     "data": {
      "text/html": [
       "<div>\n",
       "<style scoped>\n",
       "    .dataframe tbody tr th:only-of-type {\n",
       "        vertical-align: middle;\n",
       "    }\n",
       "\n",
       "    .dataframe tbody tr th {\n",
       "        vertical-align: top;\n",
       "    }\n",
       "\n",
       "    .dataframe thead th {\n",
       "        text-align: right;\n",
       "    }\n",
       "</style>\n",
       "<table border=\"1\" class=\"dataframe\">\n",
       "  <thead>\n",
       "    <tr style=\"text-align: right;\">\n",
       "      <th></th>\n",
       "      <th>Brand</th>\n",
       "      <th>Variety</th>\n",
       "      <th>Style</th>\n",
       "      <th>Country</th>\n",
       "      <th>Stars</th>\n",
       "      <th>spiciness</th>\n",
       "      <th>spiciness_2</th>\n",
       "      <th>Scoville</th>\n",
       "      <th>continent</th>\n",
       "    </tr>\n",
       "  </thead>\n",
       "  <tbody>\n",
       "    <tr>\n",
       "      <th>0</th>\n",
       "      <td>MIT</td>\n",
       "      <td>Shallot Sauce Dry Noodle</td>\n",
       "      <td>Pack</td>\n",
       "      <td>Taiwan</td>\n",
       "      <td>3.00</td>\n",
       "      <td>pepper free</td>\n",
       "      <td>pepper free</td>\n",
       "      <td>(10000, 50000)</td>\n",
       "      <td>Asia</td>\n",
       "    </tr>\n",
       "    <tr>\n",
       "      <th>1</th>\n",
       "      <td>Charming Couple</td>\n",
       "      <td>Biang Biang Scallion Chicken Sauce</td>\n",
       "      <td>Pack</td>\n",
       "      <td>Taiwan</td>\n",
       "      <td>4.50</td>\n",
       "      <td>pepper free</td>\n",
       "      <td>pepper free</td>\n",
       "      <td>(10000, 50000)</td>\n",
       "      <td>Asia</td>\n",
       "    </tr>\n",
       "    <tr>\n",
       "      <th>2</th>\n",
       "      <td>Hi Lai Foods</td>\n",
       "      <td>Lai Noodle Vegan Sesame Paste Flavor</td>\n",
       "      <td>Pack</td>\n",
       "      <td>Taiwan</td>\n",
       "      <td>5.00</td>\n",
       "      <td>pepper free</td>\n",
       "      <td>pepper free</td>\n",
       "      <td>(10000, 50000)</td>\n",
       "      <td>Asia</td>\n",
       "    </tr>\n",
       "    <tr>\n",
       "      <th>3</th>\n",
       "      <td>Ve Wong</td>\n",
       "      <td>Artificial Peppered Beef Flavor</td>\n",
       "      <td>Pack</td>\n",
       "      <td>Taiwan</td>\n",
       "      <td>3.50</td>\n",
       "      <td>pepper free</td>\n",
       "      <td>mild</td>\n",
       "      <td>(100, 500)</td>\n",
       "      <td>Asia</td>\n",
       "    </tr>\n",
       "    <tr>\n",
       "      <th>4</th>\n",
       "      <td>iNoodle</td>\n",
       "      <td>Flat Noodle Soy Sauce Flavor</td>\n",
       "      <td>Pack</td>\n",
       "      <td>Taiwan</td>\n",
       "      <td>3.25</td>\n",
       "      <td>pepper free</td>\n",
       "      <td>mild</td>\n",
       "      <td>(100, 500)</td>\n",
       "      <td>Asia</td>\n",
       "    </tr>\n",
       "    <tr>\n",
       "      <th>...</th>\n",
       "      <td>...</td>\n",
       "      <td>...</td>\n",
       "      <td>...</td>\n",
       "      <td>...</td>\n",
       "      <td>...</td>\n",
       "      <td>...</td>\n",
       "      <td>...</td>\n",
       "      <td>...</td>\n",
       "      <td>...</td>\n",
       "    </tr>\n",
       "    <tr>\n",
       "      <th>4022</th>\n",
       "      <td>Nissin</td>\n",
       "      <td>Sabor A Pollo Sopa Instantánea Con Fideos</td>\n",
       "      <td>Pack</td>\n",
       "      <td>Colombia</td>\n",
       "      <td>3.25</td>\n",
       "      <td>pepper free</td>\n",
       "      <td>pepper free</td>\n",
       "      <td>(10000, 50000)</td>\n",
       "      <td>South America</td>\n",
       "    </tr>\n",
       "    <tr>\n",
       "      <th>4023</th>\n",
       "      <td>Nissin</td>\n",
       "      <td>Cup Noodles Sabor A Gallina</td>\n",
       "      <td>Cup</td>\n",
       "      <td>Colombia</td>\n",
       "      <td>3.50</td>\n",
       "      <td>pepper free</td>\n",
       "      <td>pepper free</td>\n",
       "      <td>(10000, 50000)</td>\n",
       "      <td>South America</td>\n",
       "    </tr>\n",
       "    <tr>\n",
       "      <th>4024</th>\n",
       "      <td>Nissin</td>\n",
       "      <td>Sabor A Carne Sopa Instantánea Con Fideos</td>\n",
       "      <td>Pack</td>\n",
       "      <td>Colombia</td>\n",
       "      <td>3.75</td>\n",
       "      <td>pepper free</td>\n",
       "      <td>pepper free</td>\n",
       "      <td>(10000, 50000)</td>\n",
       "      <td>South America</td>\n",
       "    </tr>\n",
       "    <tr>\n",
       "      <th>4025</th>\n",
       "      <td>Baltix</td>\n",
       "      <td>Instant Noodles With Chicken Flavour Broth</td>\n",
       "      <td>Pack</td>\n",
       "      <td>Estonia</td>\n",
       "      <td>3.75</td>\n",
       "      <td>pepper free</td>\n",
       "      <td>pepper free</td>\n",
       "      <td>(10000, 50000)</td>\n",
       "      <td>Europe</td>\n",
       "    </tr>\n",
       "    <tr>\n",
       "      <th>4026</th>\n",
       "      <td>Baltix</td>\n",
       "      <td>Instant Noodles With Beef Flavour Broth</td>\n",
       "      <td>Pack</td>\n",
       "      <td>Estonia</td>\n",
       "      <td>3.25</td>\n",
       "      <td>pepper free</td>\n",
       "      <td>pepper free</td>\n",
       "      <td>(10000, 50000)</td>\n",
       "      <td>Europe</td>\n",
       "    </tr>\n",
       "  </tbody>\n",
       "</table>\n",
       "<p>3899 rows × 9 columns</p>\n",
       "</div>"
      ],
      "text/plain": [
       "                Brand                                     Variety Style  \\\n",
       "0                 MIT                    Shallot Sauce Dry Noodle  Pack   \n",
       "1     Charming Couple          Biang Biang Scallion Chicken Sauce  Pack   \n",
       "2        Hi Lai Foods        Lai Noodle Vegan Sesame Paste Flavor  Pack   \n",
       "3             Ve Wong             Artificial Peppered Beef Flavor  Pack   \n",
       "4             iNoodle                Flat Noodle Soy Sauce Flavor  Pack   \n",
       "...               ...                                         ...   ...   \n",
       "4022           Nissin   Sabor A Pollo Sopa Instantánea Con Fideos  Pack   \n",
       "4023           Nissin                 Cup Noodles Sabor A Gallina   Cup   \n",
       "4024           Nissin   Sabor A Carne Sopa Instantánea Con Fideos  Pack   \n",
       "4025           Baltix  Instant Noodles With Chicken Flavour Broth  Pack   \n",
       "4026           Baltix     Instant Noodles With Beef Flavour Broth  Pack   \n",
       "\n",
       "       Country  Stars    spiciness  spiciness_2        Scoville      continent  \n",
       "0       Taiwan   3.00  pepper free  pepper free  (10000, 50000)           Asia  \n",
       "1       Taiwan   4.50  pepper free  pepper free  (10000, 50000)           Asia  \n",
       "2       Taiwan   5.00  pepper free  pepper free  (10000, 50000)           Asia  \n",
       "3       Taiwan   3.50  pepper free         mild      (100, 500)           Asia  \n",
       "4       Taiwan   3.25  pepper free         mild      (100, 500)           Asia  \n",
       "...        ...    ...          ...          ...             ...            ...  \n",
       "4022  Colombia   3.25  pepper free  pepper free  (10000, 50000)  South America  \n",
       "4023  Colombia   3.50  pepper free  pepper free  (10000, 50000)  South America  \n",
       "4024  Colombia   3.75  pepper free  pepper free  (10000, 50000)  South America  \n",
       "4025   Estonia   3.75  pepper free  pepper free  (10000, 50000)         Europe  \n",
       "4026   Estonia   3.25  pepper free  pepper free  (10000, 50000)         Europe  \n",
       "\n",
       "[3899 rows x 9 columns]"
      ]
     },
     "execution_count": 12,
     "metadata": {},
     "output_type": "execute_result"
    }
   ],
   "source": [
    "new_df.Stars= new_df.Stars.apply(star_converted)\n",
    "star_count = new_df['Stars'].value_counts()\n",
    "star_count\n",
    "new_df"
   ]
  },
  {
   "cell_type": "code",
   "execution_count": 13,
   "metadata": {},
   "outputs": [
    {
     "data": {
      "image/png": "[encoded data removed]",
      "text/plain": [
       "<Figure size 720x720 with 1 Axes>"
      ]
     },
     "metadata": {
      "image/png": {
       "height": 588,
       "width": 666
      },
      "needs_background": "light"
     },
     "output_type": "display_data"
    }
   ],
   "source": [
    "plt.figure(figsize = (10, 10))\n",
    "barplot = sns.barplot(data = new_df, x = 'Stars', y = 'continent')\n",
    "#scatterplot.set_xticks(range(17))\n",
    "#scatterplot.set_xticklabels(values)"
   ]
  },
  {
   "cell_type": "code",
   "execution_count": 15,
   "metadata": {},
   "outputs": [
    {
     "data": {
      "image/png": "[encoded data removed]",
      "text/plain": [
       "<Figure size 720x720 with 1 Axes>"
      ]
     },
     "metadata": {
      "image/png": {
       "height": 588,
       "width": 666
      },
      "needs_background": "light"
     },
     "output_type": "display_data"
    }
   ],
   "source": [
    "plt.figure(figsize = (10, 10))\n",
    "barplot = sns.barplot(data = new_df, x = 'Stars', y = 'continent', hue = 'spiciness_2')"
   ]
  },
  {
   "cell_type": "code",
   "execution_count": null,
   "metadata": {},
   "outputs": [],
   "source": []
  }
 ],
 "metadata": {
  "kernelspec": {
   "display_name": "Python 3 (ipykernel)",
   "language": "python",
   "name": "python3"
  },
  "language_info": {
   "codemirror_mode": {
    "name": "ipython",
    "version": 3
   },
   "file_extension": ".py",
   "mimetype": "text/x-python",
   "name": "python",
   "nbconvert_exporter": "python",
   "pygments_lexer": "ipython3",
   "version": "3.9.5"
  }
 },
 "nbformat": 4,
 "nbformat_minor": 2
}
